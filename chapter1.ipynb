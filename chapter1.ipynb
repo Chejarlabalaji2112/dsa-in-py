{
 "cells": [
  {
   "cell_type": "code",
   "execution_count": 3,
   "id": "764dddb4-5ff5-446b-b049-e0f34c6ebf82",
   "metadata": {},
   "outputs": [
    {
     "data": {
      "text/plain": [
       "False"
      ]
     },
     "execution_count": 3,
     "metadata": {},
     "output_type": "execute_result"
    }
   ],
   "source": [
    "def is_multiple(n,m):\n",
    "    return True if n%m== 0 else False\n",
    "\n",
    "is_multiple(4,9)"
   ]
  },
  {
   "cell_type": "code",
   "execution_count": 8,
   "id": "76730357-12a8-4591-bce1-b61ffad28a80",
   "metadata": {},
   "outputs": [
    {
     "data": {
      "text/plain": [
       "True"
      ]
     },
     "execution_count": 8,
     "metadata": {},
     "output_type": "execute_result"
    }
   ],
   "source": [
    "def is_even(k):\n",
    "    return True if k&1 == 0 else False\n",
    "is_even(99997349845793748738)\n"
   ]
  },
  {
   "cell_type": "code",
   "execution_count": 13,
   "id": "75b83f9c-c520-4feb-8479-a1e17c1fcb87",
   "metadata": {},
   "outputs": [
    {
     "data": {
      "text/plain": [
       "(-1, 3)"
      ]
     },
     "execution_count": 13,
     "metadata": {},
     "output_type": "execute_result"
    }
   ],
   "source": [
    "def minmax(data):\n",
    "    if len(data) < 1:\n",
    "        return None\n",
    "    mn = mx = data[0]\n",
    "    for i in data:\n",
    "        if mn > i:\n",
    "            mn = i\n",
    "        elif mx < i :\n",
    "            mx = i\n",
    "    return mn,mx\n",
    "minmax([1,2,3,-1])"
   ]
  },
  {
   "cell_type": "code",
   "execution_count": 9,
   "id": "9e11f9b5-0f8a-4dcd-ae44-a0bc1e91e996",
   "metadata": {},
   "outputs": [
    {
     "name": "stdout",
     "output_type": "stream",
     "text": [
      "0\n",
      "else\n"
     ]
    }
   ],
   "source": [
    "for i in range(1):\n",
    "    print(i)\n",
    "else:\n",
    "    print(\"else\")\n",
    "    "
   ]
  },
  {
   "cell_type": "code",
   "execution_count": 10,
   "id": "379daf2f-bf92-44ec-92e9-157b96321b89",
   "metadata": {},
   "outputs": [
    {
     "ename": "TypeError",
     "evalue": "'<' not supported between instances of 'NoneType' and 'int'",
     "output_type": "error",
     "traceback": [
      "\u001b[1;31m---------------------------------------------------------------------------\u001b[0m",
      "\u001b[1;31mTypeError\u001b[0m                                 Traceback (most recent call last)",
      "Cell \u001b[1;32mIn[10], line 1\u001b[0m\n\u001b[1;32m----> 1\u001b[0m \u001b[38;5;28;01mNone\u001b[39;00m \u001b[38;5;241m<\u001b[39m \u001b[38;5;241m1\u001b[39m\n",
      "\u001b[1;31mTypeError\u001b[0m: '<' not supported between instances of 'NoneType' and 'int'"
     ]
    }
   ],
   "source": []
  },
  {
   "cell_type": "code",
   "execution_count": null,
   "id": "c6d1284a-9a1d-4df2-933f-273367ed0c8a",
   "metadata": {},
   "outputs": [],
   "source": []
  }
 ],
 "metadata": {
  "kernelspec": {
   "display_name": "Python 3 (ipykernel)",
   "language": "python",
   "name": "python3"
  },
  "language_info": {
   "codemirror_mode": {
    "name": "ipython",
    "version": 3
   },
   "file_extension": ".py",
   "mimetype": "text/x-python",
   "name": "python",
   "nbconvert_exporter": "python",
   "pygments_lexer": "ipython3",
   "version": "3.11.7"
  }
 },
 "nbformat": 4,
 "nbformat_minor": 5
}
