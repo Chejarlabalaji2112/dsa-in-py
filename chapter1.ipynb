{
 "cells": [
  {
   "cell_type": "code",
   "execution_count": 41,
   "id": "f35025f0-b798-490a-b35f-6f01576852ad",
   "metadata": {},
   "outputs": [],
   "source": [
    "import random as rd"
   ]
  },
  {
   "cell_type": "code",
   "execution_count": 22,
   "id": "764dddb4-5ff5-446b-b049-e0f34c6ebf82",
   "metadata": {},
   "outputs": [
    {
     "data": {
      "text/plain": [
       "False"
      ]
     },
     "execution_count": 22,
     "metadata": {},
     "output_type": "execute_result"
    }
   ],
   "source": [
    "# r1\n",
    "def is_multiple(n,m):\n",
    "    return True if n%m== 0 else False\n",
    "\n",
    "is_multiple(4,9)"
   ]
  },
  {
   "cell_type": "code",
   "execution_count": 23,
   "id": "76730357-12a8-4591-bce1-b61ffad28a80",
   "metadata": {},
   "outputs": [
    {
     "data": {
      "text/plain": [
       "True"
      ]
     },
     "execution_count": 23,
     "metadata": {},
     "output_type": "execute_result"
    }
   ],
   "source": [
    "# r2\n",
    "def is_even(k):\n",
    "    return True if k&1 == 0 else False\n",
    "is_even(99997349845793748738)\n"
   ]
  },
  {
   "cell_type": "code",
   "execution_count": 13,
   "id": "75b83f9c-c520-4feb-8479-a1e17c1fcb87",
   "metadata": {},
   "outputs": [
    {
     "data": {
      "text/plain": [
       "(-1, 3)"
      ]
     },
     "execution_count": 13,
     "metadata": {},
     "output_type": "execute_result"
    }
   ],
   "source": [
    "def minmax(data):#r3\n",
    "    if len(data) < 1:\n",
    "        return None\n",
    "    mn = mx = data[0]\n",
    "    for i in data:\n",
    "        if mn > i:\n",
    "            mn = i\n",
    "        elif mx < i :\n",
    "            mx = i\n",
    "    return mn,mx\n",
    "minmax([1,2,3,-1])"
   ]
  },
  {
   "cell_type": "code",
   "execution_count": 20,
   "id": "379daf2f-bf92-44ec-92e9-157b96321b89",
   "metadata": {},
   "outputs": [
    {
     "data": {
      "text/plain": [
       "506"
      ]
     },
     "execution_count": 20,
     "metadata": {},
     "output_type": "execute_result"
    }
   ],
   "source": [
    "def sumofsquares(n: int)-> int:#r4\n",
    "    sum_ = 0\n",
    "    for i in range(n):\n",
    "        sum_ += i ** 2\n",
    "    return sum_\n",
    "sumofsquares(12)"
   ]
  },
  {
   "cell_type": "code",
   "execution_count": 21,
   "id": "c6d1284a-9a1d-4df2-933f-273367ed0c8a",
   "metadata": {},
   "outputs": [
    {
     "data": {
      "text/plain": [
       "5"
      ]
     },
     "execution_count": 21,
     "metadata": {},
     "output_type": "execute_result"
    }
   ],
   "source": [
    "f = lambda x: sum((i**2 for i in range(x)))#r5\n",
    "f(3)"
   ]
  },
  {
   "cell_type": "code",
   "execution_count": 26,
   "id": "6fafa9b7-1c17-4d69-9b6a-740eac84b851",
   "metadata": {},
   "outputs": [
    {
     "data": {
      "text/plain": [
       "10"
      ]
     },
     "execution_count": 26,
     "metadata": {},
     "output_type": "execute_result"
    }
   ],
   "source": [
    "def r6(n):\n",
    "    sum_ = 0\n",
    "    for i in range(1,n,2):\n",
    "        sum_ += i ** 2\n",
    "    return sum_\n",
    "r6(5)"
   ]
  },
  {
   "cell_type": "code",
   "execution_count": 29,
   "id": "21e0c30a-6766-425d-836a-5b8311692734",
   "metadata": {},
   "outputs": [
    {
     "data": {
      "text/plain": [
       "35"
      ]
     },
     "execution_count": 29,
     "metadata": {},
     "output_type": "execute_result"
    }
   ],
   "source": [
    "r7 = lambda n: sum((i ** 2 for i in range(1,n,2)))\n",
    "r7(6)"
   ]
  },
  {
   "cell_type": "code",
   "execution_count": 37,
   "id": "9ba50271-a59a-44e4-a72d-5189843839e7",
   "metadata": {},
   "outputs": [
    {
     "ename": "ValueError",
     "evalue": "k vlaue is more than length of the list.",
     "output_type": "error",
     "traceback": [
      "\u001b[1;31m---------------------------------------------------------------------------\u001b[0m",
      "\u001b[1;31mValueError\u001b[0m                                Traceback (most recent call last)",
      "Cell \u001b[1;32mIn[37], line 6\u001b[0m\n\u001b[0;32m      4\u001b[0m     \u001b[38;5;28;01melse\u001b[39;00m:\n\u001b[0;32m      5\u001b[0m         \u001b[38;5;28;01mraise\u001b[39;00m \u001b[38;5;167;01mValueError\u001b[39;00m(\u001b[38;5;124m\"\u001b[39m\u001b[38;5;124mk vlaue is more than length of the list.\u001b[39m\u001b[38;5;124m\"\u001b[39m)\n\u001b[1;32m----> 6\u001b[0m r8(\u001b[38;5;241m-\u001b[39m\u001b[38;5;241m2\u001b[39m, \u001b[38;5;241m1\u001b[39m)\n",
      "Cell \u001b[1;32mIn[37], line 5\u001b[0m, in \u001b[0;36mr8\u001b[1;34m(k, n)\u001b[0m\n\u001b[0;32m      3\u001b[0m     \u001b[38;5;28;01mreturn\u001b[39;00m n\u001b[38;5;241m+\u001b[39mk\n\u001b[0;32m      4\u001b[0m \u001b[38;5;28;01melse\u001b[39;00m:\n\u001b[1;32m----> 5\u001b[0m     \u001b[38;5;28;01mraise\u001b[39;00m \u001b[38;5;167;01mValueError\u001b[39;00m(\u001b[38;5;124m\"\u001b[39m\u001b[38;5;124mk vlaue is more than length of the list.\u001b[39m\u001b[38;5;124m\"\u001b[39m)\n",
      "\u001b[1;31mValueError\u001b[0m: k vlaue is more than length of the list."
     ]
    }
   ],
   "source": [
    "def r8(k,n):\n",
    "    if (-n <= k < 0 ):\n",
    "        return n+k\n",
    "    else:\n",
    "        raise ValueError(\"k vlaue is more than length of the list.\")\n",
    "r8(-2, 1)"
   ]
  },
  {
   "cell_type": "code",
   "execution_count": 31,
   "id": "1526a617-5257-47d2-b12b-cac065bfab41",
   "metadata": {},
   "outputs": [
    {
     "data": {
      "text/plain": [
       "(50, 60, 70, 80)"
      ]
     },
     "execution_count": 31,
     "metadata": {},
     "output_type": "execute_result"
    }
   ],
   "source": [
    "#r9\n",
    "tuple(range(50,81,10))\n"
   ]
  },
  {
   "cell_type": "code",
   "execution_count": 33,
   "id": "e8c80faf-c3ce-4f2d-aeb4-6cebdf5b92d1",
   "metadata": {},
   "outputs": [
    {
     "data": {
      "text/plain": [
       "(8, 6, 4, 2, 0, -2, -4, -6, -8)"
      ]
     },
     "execution_count": 33,
     "metadata": {},
     "output_type": "execute_result"
    }
   ],
   "source": [
    "#r10\n",
    "tuple(range(8,-9,-2))"
   ]
  },
  {
   "cell_type": "code",
   "execution_count": 38,
   "id": "5088fb75-317d-464c-ae5c-8f4f8234b7f4",
   "metadata": {},
   "outputs": [
    {
     "data": {
      "text/plain": [
       "[1, 2, 4, 8, 16, 32, 64, 128, 256]"
      ]
     },
     "execution_count": 38,
     "metadata": {},
     "output_type": "execute_result"
    }
   ],
   "source": [
    "#r11 \n",
    "[2 ** i for i in range(9)]"
   ]
  },
  {
   "cell_type": "code",
   "execution_count": 42,
   "id": "99355cef-566f-4daa-aeee-61fe34bff7fe",
   "metadata": {},
   "outputs": [
    {
     "data": {
      "text/plain": [
       "4"
      ]
     },
     "execution_count": 42,
     "metadata": {},
     "output_type": "execute_result"
    }
   ],
   "source": [
    "#r12 \n",
    "def choice(data):\n",
    "    n = len(data)\n",
    "    if n < 1:\n",
    "        return\n",
    "    return data[rd.randrange(n)]\n",
    "choice([1, 2, 4, 8, 16, 32, 64, 128, 256])"
   ]
  },
  {
   "cell_type": "code",
   "execution_count": null,
   "id": "1c743628-a9fb-4873-9fa0-7539c090bd1b",
   "metadata": {},
   "outputs": [],
   "source": []
  }
 ],
 "metadata": {
  "kernelspec": {
   "display_name": "Python 3 (ipykernel)",
   "language": "python",
   "name": "python3"
  },
  "language_info": {
   "codemirror_mode": {
    "name": "ipython",
    "version": 3
   },
   "file_extension": ".py",
   "mimetype": "text/x-python",
   "name": "python",
   "nbconvert_exporter": "python",
   "pygments_lexer": "ipython3",
   "version": "3.11.7"
  }
 },
 "nbformat": 4,
 "nbformat_minor": 5
}
