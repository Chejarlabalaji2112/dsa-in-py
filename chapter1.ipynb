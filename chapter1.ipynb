{
 "cells": [
  {
   "cell_type": "markdown",
   "id": "85357208-6d2c-4b34-9cbd-e32469d4ac6e",
   "metadata": {},
   "source": [
    "# Reinforcement column\n"
   ]
  },
  {
   "cell_type": "code",
   "execution_count": 1,
   "id": "f35025f0-b798-490a-b35f-6f01576852ad",
   "metadata": {},
   "outputs": [],
   "source": [
    "import random as rd"
   ]
  },
  {
   "cell_type": "code",
   "execution_count": 22,
   "id": "764dddb4-5ff5-446b-b049-e0f34c6ebf82",
   "metadata": {},
   "outputs": [
    {
     "data": {
      "text/plain": [
       "False"
      ]
     },
     "execution_count": 22,
     "metadata": {},
     "output_type": "execute_result"
    }
   ],
   "source": [
    "# r1\n",
    "def is_multiple(n,m):\n",
    "    return True if n%m== 0 else False\n",
    "\n",
    "is_multiple(4,9)"
   ]
  },
  {
   "cell_type": "code",
   "execution_count": 4,
   "id": "76730357-12a8-4591-bce1-b61ffad28a80",
   "metadata": {},
   "outputs": [
    {
     "data": {
      "text/plain": [
       "True"
      ]
     },
     "execution_count": 4,
     "metadata": {},
     "output_type": "execute_result"
    }
   ],
   "source": [
    "# r2\n",
    "def is_even(k):\n",
    "    return True if k&1 == 0 else False\n",
    "is_even(99997349845793748738)\n"
   ]
  },
  {
   "cell_type": "code",
   "execution_count": 13,
   "id": "75b83f9c-c520-4feb-8479-a1e17c1fcb87",
   "metadata": {},
   "outputs": [
    {
     "data": {
      "text/plain": [
       "(-1, 3)"
      ]
     },
     "execution_count": 13,
     "metadata": {},
     "output_type": "execute_result"
    }
   ],
   "source": [
    "def minmax(data):#r3\n",
    "    if len(data) < 1:\n",
    "        return None\n",
    "    mn = mx = data[0]\n",
    "    for i in data:\n",
    "        if mn > i:\n",
    "            mn = i\n",
    "        elif mx < i :\n",
    "            mx = i\n",
    "    return mn,mx\n",
    "minmax([1,2,3,-1])"
   ]
  },
  {
   "cell_type": "code",
   "execution_count": 20,
   "id": "379daf2f-bf92-44ec-92e9-157b96321b89",
   "metadata": {},
   "outputs": [
    {
     "data": {
      "text/plain": [
       "506"
      ]
     },
     "execution_count": 20,
     "metadata": {},
     "output_type": "execute_result"
    }
   ],
   "source": [
    "def sumofsquares(n: int)-> int:#r4\n",
    "    sum_ = 0\n",
    "    for i in range(n):\n",
    "        sum_ += i ** 2\n",
    "    return sum_\n",
    "sumofsquares(12)"
   ]
  },
  {
   "cell_type": "code",
   "execution_count": 21,
   "id": "c6d1284a-9a1d-4df2-933f-273367ed0c8a",
   "metadata": {},
   "outputs": [
    {
     "data": {
      "text/plain": [
       "5"
      ]
     },
     "execution_count": 21,
     "metadata": {},
     "output_type": "execute_result"
    }
   ],
   "source": [
    "f = lambda x: sum((i**2 for i in range(x)))#r5\n",
    "f(3)"
   ]
  },
  {
   "cell_type": "code",
   "execution_count": 26,
   "id": "6fafa9b7-1c17-4d69-9b6a-740eac84b851",
   "metadata": {},
   "outputs": [
    {
     "data": {
      "text/plain": [
       "10"
      ]
     },
     "execution_count": 26,
     "metadata": {},
     "output_type": "execute_result"
    }
   ],
   "source": [
    "def r6(n):\n",
    "    sum_ = 0\n",
    "    for i in range(1,n,2):\n",
    "        sum_ += i ** 2\n",
    "    return sum_\n",
    "r6(5)"
   ]
  },
  {
   "cell_type": "code",
   "execution_count": 29,
   "id": "21e0c30a-6766-425d-836a-5b8311692734",
   "metadata": {},
   "outputs": [
    {
     "data": {
      "text/plain": [
       "35"
      ]
     },
     "execution_count": 29,
     "metadata": {},
     "output_type": "execute_result"
    }
   ],
   "source": [
    "r7 = lambda n: sum((i ** 2 for i in range(1,n,2)))\n",
    "r7(6)"
   ]
  },
  {
   "cell_type": "code",
   "execution_count": 2,
   "id": "9ba50271-a59a-44e4-a72d-5189843839e7",
   "metadata": {},
   "outputs": [
    {
     "data": {
      "text/plain": [
       "1"
      ]
     },
     "execution_count": 2,
     "metadata": {},
     "output_type": "execute_result"
    }
   ],
   "source": [
    "def r8(k,n):\n",
    "    if (-n <= k < 0 ):\n",
    "        return n+k\n",
    "    else:\n",
    "        raise ValueError(\"k vlaue is more than length of the list.\")\n",
    "r8(-2, 3)"
   ]
  },
  {
   "cell_type": "code",
   "execution_count": 31,
   "id": "1526a617-5257-47d2-b12b-cac065bfab41",
   "metadata": {},
   "outputs": [
    {
     "data": {
      "text/plain": [
       "(50, 60, 70, 80)"
      ]
     },
     "execution_count": 31,
     "metadata": {},
     "output_type": "execute_result"
    }
   ],
   "source": [
    "#r9\n",
    "tuple(range(50,81,10))\n"
   ]
  },
  {
   "cell_type": "code",
   "execution_count": 33,
   "id": "e8c80faf-c3ce-4f2d-aeb4-6cebdf5b92d1",
   "metadata": {},
   "outputs": [
    {
     "data": {
      "text/plain": [
       "(8, 6, 4, 2, 0, -2, -4, -6, -8)"
      ]
     },
     "execution_count": 33,
     "metadata": {},
     "output_type": "execute_result"
    }
   ],
   "source": [
    "#r10\n",
    "tuple(range(8,-9,-2))"
   ]
  },
  {
   "cell_type": "code",
   "execution_count": 38,
   "id": "5088fb75-317d-464c-ae5c-8f4f8234b7f4",
   "metadata": {},
   "outputs": [
    {
     "data": {
      "text/plain": [
       "[1, 2, 4, 8, 16, 32, 64, 128, 256]"
      ]
     },
     "execution_count": 38,
     "metadata": {},
     "output_type": "execute_result"
    }
   ],
   "source": [
    "#r11 \n",
    "[2 ** i for i in range(9)]"
   ]
  },
  {
   "cell_type": "code",
   "execution_count": 42,
   "id": "99355cef-566f-4daa-aeee-61fe34bff7fe",
   "metadata": {},
   "outputs": [
    {
     "data": {
      "text/plain": [
       "4"
      ]
     },
     "execution_count": 42,
     "metadata": {},
     "output_type": "execute_result"
    }
   ],
   "source": [
    "#r12 \n",
    "def choice(data):\n",
    "    n = len(data)\n",
    "    if n < 1:\n",
    "        return\n",
    "    return data[rd.randrange(n)]\n",
    "choice([1, 2, 4, 8, 16, 32, 64, 128, 256])"
   ]
  },
  {
   "cell_type": "markdown",
   "id": "fa9bf45d-82f3-4f2d-8d7e-f3fd08493629",
   "metadata": {},
   "source": [
    "# creativity column\n"
   ]
  },
  {
   "cell_type": "markdown",
   "id": "67aca948-b15e-47bd-af45-2e7b34c4b565",
   "metadata": {},
   "source": [
    "c.13\n",
    "def reverse(seq list):\n",
    "    length <- len(list)\n",
    "    p1 <- 0\n",
    "    p2 <- length -1\n",
    "    while p1 < p2:\n",
    "        swap p1 and p2 indices elements of list each other \n",
    "\n",
    "python function is method and the above pseudo code is function."
   ]
  },
  {
   "cell_type": "code",
   "execution_count": 11,
   "id": "929ca0c2-3391-4284-9a4e-94c8f8517886",
   "metadata": {},
   "outputs": [
    {
     "data": {
      "text/plain": [
       "[(1, 5), (3, 7)]"
      ]
     },
     "execution_count": 11,
     "metadata": {},
     "output_type": "execute_result"
    }
   ],
   "source": [
    "#c14\n",
    "def prozodd(data):\n",
    "    res = []\n",
    "    for each in data:\n",
    "        if not is_even(each):\n",
    "            res.append(each)\n",
    "    if (val := len(res)) > 1:\n",
    "        return [i for i in zip(res[:val//2], res[val//2 :])]\n",
    "prozodd([1,3,5,7])"
   ]
  },
  {
   "cell_type": "code",
   "execution_count": 19,
   "id": "de9dbe78-f31a-440b-a497-0633b7ddd3aa",
   "metadata": {},
   "outputs": [
    {
     "data": {
      "text/plain": [
       "False"
      ]
     },
     "execution_count": 19,
     "metadata": {},
     "output_type": "execute_result"
    }
   ],
   "source": [
    "#c15\n",
    "def check_dist(data):\n",
    "    dict = {}\n",
    "    for each in data:\n",
    "        if not dict.get(each,0):\n",
    "            dict.setdefault(each,1)\n",
    "        else:\n",
    "            return False\n",
    "    print(dict)        \n",
    "    return True\n",
    "check_dist([1,24,24])"
   ]
  },
  {
   "cell_type": "markdown",
   "id": "f4d7083a-7a46-42a6-a711-3aefd5af4f17",
   "metadata": {},
   "source": [
    "# c16\n",
    "It is because lists are mutable. Meaning is we can change the element of the list in-place. And also parameter is reference to the list ,not list itself so changes that happen in function reflects in list.\n"
   ]
  },
  {
   "cell_type": "markdown",
   "id": "ba3871d9-fa5c-40ea-a9c2-078c9d543577",
   "metadata": {},
   "source": [
    " #c17\n",
    " It does not work. Because val is local variable  ( iterator object ).Changes made to the local variable will remain in the for block after coming out , value changes and does not reflect in original list.See below example i value inside for loop got changed but original list remains same.\n",
    " \n"
   ]
  },
  {
   "cell_type": "code",
   "execution_count": 21,
   "id": "c180fd5e-3c2c-404a-adac-2dd713c423e0",
   "metadata": {},
   "outputs": [
    {
     "name": "stdout",
     "output_type": "stream",
     "text": [
      "2\n",
      "4\n",
      "6\n"
     ]
    },
    {
     "data": {
      "text/plain": [
       "[1, 2, 3]"
      ]
     },
     "execution_count": 21,
     "metadata": {},
     "output_type": "execute_result"
    }
   ],
   "source": [
    "data = [1,2,3]\n",
    "for i in data:\n",
    "    i *= 2\n",
    "    print(i)\n",
    "data"
   ]
  },
  {
   "cell_type": "code",
   "execution_count": 2,
   "id": "9d220be0-de91-44cb-8ccc-8f2b6aca9ea2",
   "metadata": {},
   "outputs": [
    {
     "data": {
      "text/plain": [
       "[0, 2, 6, 12, 20, 30, 42, 56, 72, 90]"
      ]
     },
     "execution_count": 2,
     "metadata": {},
     "output_type": "execute_result"
    }
   ],
   "source": [
    "#c18\n",
    "[ i * (i + 1)  for i in range(10)]"
   ]
  },
  {
   "cell_type": "code",
   "execution_count": 6,
   "id": "da6ba965-4d2e-47ea-a7c4-58b75c31c983",
   "metadata": {},
   "outputs": [
    {
     "data": {
      "text/plain": [
       "['a',\n",
       " 'b',\n",
       " 'c',\n",
       " 'd',\n",
       " 'e',\n",
       " 'f',\n",
       " 'g',\n",
       " 'h',\n",
       " 'i',\n",
       " 'j',\n",
       " 'k',\n",
       " 'l',\n",
       " 'm',\n",
       " 'n',\n",
       " 'o',\n",
       " 'p',\n",
       " 'q',\n",
       " 'r',\n",
       " 's',\n",
       " 't',\n",
       " 'u',\n",
       " 'v',\n",
       " 'w',\n",
       " 'x',\n",
       " 'y',\n",
       " 'z']"
      ]
     },
     "execution_count": 6,
     "metadata": {},
     "output_type": "execute_result"
    }
   ],
   "source": [
    "#c19\n",
    "[chr(i) for i in range(ord('a'), ord('z') + 1 )]"
   ]
  },
  {
   "cell_type": "code",
   "execution_count": 38,
   "id": "7ac1fc4b-ff4b-4baf-a7e1-cb717085ba32",
   "metadata": {},
   "outputs": [
    {
     "data": {
      "text/plain": [
       "[2, 3, 4, 1]"
      ]
     },
     "execution_count": 38,
     "metadata": {},
     "output_type": "execute_result"
    }
   ],
   "source": [
    "#c20\n",
    "def shuffle(data):\n",
    "    n = len(data) -1 \n",
    "    for i in range(n,0,-1):\n",
    "        j = rd.randint(0,i)\n",
    "        data[j], data[i] = data[i], data[j]\n",
    "    return data\n",
    "shuffle([1,2,3,4])"
   ]
  },
  {
   "cell_type": "code",
   "execution_count": null,
   "id": "4942ed1d-2949-4e18-b4ab-0fd42e184db3",
   "metadata": {},
   "outputs": [],
   "source": [
    "def c21():\n",
    "    store = []\n",
    "    while True:\n",
    "        try:\n",
    "            store.append(input())\n",
    "        except EOFError:\n",
    "            for i in reversed(store):\n",
    "                print(i)\n",
    "            break\n",
    "                      \n",
    "c21()\n"
   ]
  },
  {
   "cell_type": "code",
   "execution_count": 5,
   "id": "50a5b4cb-1bc3-41f2-8222-8d3665d11b5a",
   "metadata": {},
   "outputs": [
    {
     "name": "stdout",
     "output_type": "stream",
     "text": [
      "1\n",
      "4\n",
      "9\n"
     ]
    }
   ],
   "source": [
    "def c22(a,b):\n",
    "    for i in range(3):\n",
    "        print(a[i] * b[i])\n",
    "c22([1,2,3],[1,2,3])\n",
    "\n",
    "        "
   ]
  },
  {
   "cell_type": "code",
   "execution_count": 7,
   "id": "c10da144-050d-45d8-88c6-a0bdf7b0a669",
   "metadata": {},
   "outputs": [
    {
     "name": "stdin",
     "output_type": "stream",
     "text": [
      "Enter the index:  5\n"
     ]
    },
    {
     "name": "stdout",
     "output_type": "stream",
     "text": [
      "Don't try buffer overflow attacks in Python!\n"
     ]
    }
   ],
   "source": [
    "#c23\n",
    "a = [0] * 2\n",
    "try:\n",
    "    a[int(input(\"Enter the index: \"))] = 0\n",
    "except IndexError:\n",
    "    print(\"Don't try buffer overflow attacks in Python!\")\n",
    "    \n",
    "    "
   ]
  },
  {
   "cell_type": "code",
   "execution_count": 14,
   "id": "4449c25d-2316-4ba8-8dad-a56f43421e31",
   "metadata": {},
   "outputs": [
    {
     "data": {
      "text/plain": [
       "7"
      ]
     },
     "execution_count": 14,
     "metadata": {},
     "output_type": "execute_result"
    }
   ],
   "source": [
    "def c24(data):\n",
    "    count = 0\n",
    "    for i in data:\n",
    "        if i in 'aeiouAEIOU':\n",
    "            count += 1\n",
    "    return count\n",
    "c24(\"balubadribalaji\")            \n",
    "    "
   ]
  },
  {
   "cell_type": "code",
   "execution_count": 27,
   "id": "4fc85ab9-a368-4a4b-9cea-b0f5c38249b8",
   "metadata": {},
   "outputs": [
    {
     "data": {
      "text/plain": [
       "'balac dfjadj dfkja2lkjsdh'"
      ]
     },
     "execution_count": 27,
     "metadata": {},
     "output_type": "execute_result"
    }
   ],
   "source": [
    "#c25\n",
    "#check the letter is in the range 65 to 91 or 97 to 122 or any space if not do not include it.\n",
    "# using punctuations from string methos.\n",
    "import string\n",
    "def c25(data):\n",
    "    content = []\n",
    "    for i in data:\n",
    "        if i not in string.punctuation:#'(65 <= (val:=ord(i)) <= 91) or (97 <= val <= 122) or i == \" \"'\n",
    "            content.append(i)           #but we need to remove only punctuations so method one is commented\n",
    "            \n",
    "    return \"\".join(content)\n",
    "c25(\"bala.c dfjadj dfkja!2+lkj@...sdh...\")\n",
    "\n"
   ]
  },
  {
   "cell_type": "code",
   "execution_count": 4,
   "id": "3a1f380e-317d-4822-a9b2-dbc4c8dc3f86",
   "metadata": {},
   "outputs": [],
   "source": [
    "def c26(a, b, c):\n",
    "    if not c == a + b:\n",
    "        return True\n",
    "    elif not a == b -c:\n",
    "        return True \n",
    "    elif not c == a * b:\n",
    "        return True\n",
    "    return False\n",
    "\n",
    "            \n",
    "    \n",
    "        "
   ]
  },
  {
   "cell_type": "code",
   "execution_count": 30,
   "id": "33904a05-e3eb-40ce-b91c-0200c52d7267",
   "metadata": {},
   "outputs": [
    {
     "data": {
      "text/plain": [
       "[1, 2, 4, 5, 10, 20, 25, 50, 100]"
      ]
     },
     "execution_count": 30,
     "metadata": {},
     "output_type": "execute_result"
    }
   ],
   "source": [
    "def factors(n: int):\n",
    "    k = 1\n",
    "    larger_factors = []\n",
    "    while k*k < n:\n",
    "        if n % k == 0:\n",
    "            yield k\n",
    "            larger_factors.append(n // k)\n",
    "        k += 1\n",
    "    if k * k == n:\n",
    "        yield k\n",
    "    for num in range(len(larger_factors)):\n",
    "        yield larger_factors.pop()\n",
    "list(factors(100))\n"
   ]
  },
  {
   "cell_type": "code",
   "execution_count": 7,
   "id": "e38789b8-0a56-4684-9f2f-57232c11c499",
   "metadata": {},
   "outputs": [
    {
     "data": {
      "text/plain": [
       "5.0"
      ]
     },
     "execution_count": 7,
     "metadata": {},
     "output_type": "execute_result"
    }
   ],
   "source": [
    "def c28(v, p=2):\n",
    "    return sum(i** p for i in v) ** (1/p)\n",
    "\n",
    "c28([4,3])"
   ]
  },
  {
   "cell_type": "code",
   "execution_count": 26,
   "id": "36724831-2ab5-4ed5-a0ee-672ace0f31e4",
   "metadata": {},
   "outputs": [
    {
     "data": {
      "text/plain": [
       "4"
      ]
     },
     "execution_count": 26,
     "metadata": {},
     "output_type": "execute_result"
    }
   ],
   "source": [
    "#from math import log\n",
    "def p30(n):\n",
    "    '''return int(log(n, 2))'''\n",
    "    sum_ = 0\n",
    "    while n > 1:\n",
    "        sum_ += 1\n",
    "        n //= 2\n",
    "    return sum_\n",
    "p30(16)\n"
   ]
  },
  {
   "cell_type": "code",
   "execution_count": null,
   "id": "412f5806-b1fa-495c-b1c8-b534d170a668",
   "metadata": {},
   "outputs": [],
   "source": [
    "#p29\n",
    "\n",
    "def permutate(data):\n",
    "    length = len(data)\n",
    "    if length == 1:\n",
    "        return data\n",
    "    permutations =[]\n",
    "    for i in range(length):\n",
    "        for each in permutate(data[:i]+data[i+1:]):\n",
    "            permutations.append(data[i]+each)\n",
    "    return permutations\n",
    "print(len(permutate('balu') ))\n",
    "%time"
   ]
  },
  {
   "cell_type": "code",
   "execution_count": 52,
   "id": "baa0a5f3-6330-4a26-8dd2-3fc2b896f527",
   "metadata": {},
   "outputs": [
    {
     "name": "stdout",
     "output_type": "stream",
     "text": [
      "{500: 3, 200: 1, 100: 1, 10: 3, 2: 1, 1: 1}\n"
     ]
    }
   ],
   "source": [
    "#p31\n",
    "def make_change(charged, given):\n",
    "    balance = round(given - charged)\n",
    "    if balance <= 0:\n",
    "        return 'Given amount is not sufficient' if balance < 0 else 'No change need to be given.'\n",
    "    available_denotations = [2000, 500, 200, 100, 50, 10, 5, 2, 1]\n",
    "    denotation_index = 0\n",
    "    change = {}\n",
    "    while balance >= 1:\n",
    "        quot, rem = divmod(balance, available_denotations[denotation_index])\n",
    "        if quot > 0:\n",
    "            balance = rem\n",
    "            change[available_denotations[denotation_index]] = quot\n",
    "        else:\n",
    "            denotation_index += 1\n",
    "    return change\n",
    "print(make_change(166.9,2000))"
   ]
  },
  {
   "cell_type": "code",
   "execution_count": 51,
   "id": "1213bcbd-e420-431b-8da8-a1aac0d5281e",
   "metadata": {},
   "outputs": [
    {
     "name": "stdout",
     "output_type": "stream",
     "text": [
      " 0: I will never spam my friends again.\n",
      " 1: I will never spam my friends again.\n",
      " 2: I will never spam my friends again.\n",
      " 3: I will never spam my friends again.\n",
      " 4: I will never spam my friends again.\n",
      " 5: I will never spam my friends again.\n",
      "----->\n",
      " 6: I will never spam m  friends again.\n",
      " 7: I will never spam my friends again.\n",
      "----->\n",
      " 8: I wlll never spam my friends again.\n",
      " 9: I will never spam my friends again.\n",
      "10: I will never spam my friends again.\n",
      "11: I will never spam my friends again.\n",
      "----->\n",
      "12: I wiml never spam my friends again.\n",
      "13: I will never spam my friends again.\n",
      "----->\n",
      "14: I wiml never spam my friends again.\n",
      "15: I will never spam my friends again.\n",
      "16: I will never spam my friends again.\n",
      "17: I will never spam my friends again.\n",
      "18: I will never spam my friends again.\n",
      "19: I will never spam my friends again.\n",
      "20: I will never spam my friends again.\n",
      "21: I will never spam my friends again.\n",
      "22: I will never spam my friends again.\n",
      "23: I will never spam my friends again.\n",
      "24: I will never spam my friends again.\n",
      "25: I will never spam my friends again.\n",
      "26: I will never spam my friends again.\n",
      "27: I will never spam my friends again.\n",
      "28: I will never spam my friends again.\n",
      "29: I will never spam my friends again.\n",
      "30: I will never spam my friends again.\n",
      "31: I will never spam my friends again.\n",
      "32: I will never spam my friends again.\n",
      "----->\n",
      "33: I wili never spam my friends again.\n",
      "34: I will never spam my friends again.\n",
      "35: I will never spam my friends again.\n",
      "36: I will never spam my friends again.\n",
      "37: I will never spam my friends again.\n",
      "38: I will never spam my friends again.\n",
      "39: I will never spam my friends again.\n",
      "40: I will never spam my friends again.\n",
      "41: I will never spam my friends again.\n",
      "42: I will never spam my friends again.\n",
      "43: I will never spam my friends again.\n",
      "44: I will never spam my friends again.\n",
      "45: I will never spam my friends again.\n",
      "46: I will never spam my friends again.\n",
      "47: I will never spam my friends again.\n",
      "----->\n",
      "48: I will never spam my friends amain.\n",
      "49: I will never spam my friends again.\n",
      "50: I will never spam my friends again.\n",
      "51: I will never spam my friends again.\n",
      "52: I will never spam my friends again.\n",
      "53: I will never spam my friends again.\n",
      "54: I will never spam my friends again.\n",
      "55: I will never spam my friends again.\n",
      "56: I will never spam my friends again.\n",
      "57: I will never spam my friends again.\n",
      "58: I will never spam my friends again.\n",
      "59: I will never spam my friends again.\n",
      "60: I will never spam my friends again.\n",
      "61: I will never spam my friends again.\n",
      "62: I will never spam my friends again.\n",
      "63: I will never spam my friends again.\n",
      "64: I will never spam my friends again.\n",
      "65: I will never spam my friends again.\n",
      "66: I will never spam my friends again.\n",
      "67: I will never spam my friends again.\n",
      "68: I will never spam my friends again.\n",
      "69: I will never spam my friends again.\n",
      "70: I will never spam my friends again.\n",
      "71: I will never spam my friends again.\n",
      "72: I will never spam my friends again.\n",
      "73: I will never spam my friends again.\n",
      "----->\n",
      "74: I will never spam my friends againn\n",
      "75: I will never spam my friends again.\n",
      "76: I will never spam my friends again.\n",
      "77: I will never spam my friends again.\n",
      "78: I will never spam my friends again.\n",
      "79: I will never spam my friends again.\n",
      "80: I will never spam my friends again.\n",
      "81: I will never spam my friends again.\n",
      "82: I will never spam my friends again.\n",
      "83: I will never spam my friends again.\n",
      "84: I will never spam my friends again.\n",
      "85: I will never spam my friends again.\n",
      "86: I will never spam my friends again.\n",
      "87: I will never spam my friends again.\n",
      "88: I will never spam my friends again.\n",
      "89: I will never spam my friends again.\n",
      "90: I will never spam my friends again.\n",
      "91: I will never spam my friends again.\n",
      "92: I will never spam my friends again.\n",
      "93: I will never spam my friends again.\n",
      "94: I will never spam my friends again.\n",
      "95: I will never spam my friends again.\n",
      "96: I will never spam my friends again.\n",
      "97: I will never spam my friends again.\n",
      "----->\n",
      "98: I will never spam my frienis again.\n",
      "99: I will never spam my friends again.\n"
     ]
    }
   ],
   "source": [
    "#p34\n",
    "n = range(100)\n",
    "typo_sentences = rd.sample(n,8)\n",
    "sent= \"I will never spam my friends again.\"\n",
    "length = len(sent)\n",
    "for i in n:\n",
    "    temp = sent\n",
    "    if i in typo_sentences:\n",
    "        letter = rd.randrange(length)\n",
    "        temp = sent[:letter]+ rd.choice(sent) + sent[letter+1: ]\n",
    "        print(\"\"\"----->\"\"\")\n",
    "    print(f\"{i:>2}: {temp}\")"
   ]
  },
  {
   "cell_type": "code",
   "execution_count": 62,
   "id": "71eda372-1c86-4fc1-9826-64762d8b29c1",
   "metadata": {},
   "outputs": [
    {
     "name": "stdout",
     "output_type": "stream",
     "text": [
      "CPU times: total: 0 ns\n",
      "Wall time: 0 ns\n"
     ]
    },
    {
     "data": {
      "text/plain": [
       "{'In': 1,\n",
       " 'a': 6,\n",
       " 'village': 1,\n",
       " 'of': 5,\n",
       " 'La': 1,\n",
       " 'Mancha,': 1,\n",
       " 'the': 2,\n",
       " 'name': 1,\n",
       " 'which': 1,\n",
       " 'I': 1,\n",
       " 'have': 1,\n",
       " 'no': 1,\n",
       " 'desire': 1,\n",
       " 'to': 2,\n",
       " 'call': 1,\n",
       " 'mind,': 1,\n",
       " 'there': 1,\n",
       " 'lived': 1,\n",
       " 'not': 1,\n",
       " 'long': 1,\n",
       " 'since': 1,\n",
       " 'one': 1,\n",
       " 'those': 1,\n",
       " 'gentlemen': 1,\n",
       " 'that': 1,\n",
       " 'keep': 1,\n",
       " 'lance': 1,\n",
       " 'in': 1,\n",
       " 'lance-rack,': 1,\n",
       " 'an': 1,\n",
       " 'old': 1,\n",
       " 'buckler,': 1,\n",
       " 'lean': 1,\n",
       " 'hack,': 1,\n",
       " 'and': 2,\n",
       " 'greyhound': 1,\n",
       " 'for': 1,\n",
       " 'coursing.': 1,\n",
       " 'An': 1,\n",
       " 'olla': 1,\n",
       " 'rather': 1,\n",
       " 'more': 1,\n",
       " 'beef': 1,\n",
       " 'than': 1,\n",
       " 'mutton,': 1,\n",
       " 'salad': 1,\n",
       " 'on': 4,\n",
       " 'most': 1,\n",
       " 'nights,': 1,\n",
       " 'scraps': 1,\n",
       " 'Saturdays,': 1,\n",
       " 'lentils': 1,\n",
       " 'Fridays,': 1,\n",
       " 'pigeon': 1,\n",
       " 'or': 1,\n",
       " 'so': 1,\n",
       " 'extra': 1,\n",
       " 'Sundays,': 1,\n",
       " 'made': 1,\n",
       " 'away': 1,\n",
       " 'with': 1,\n",
       " 'three-quarters': 1,\n",
       " 'his': 1,\n",
       " 'income.': 1}"
      ]
     },
     "execution_count": 62,
     "metadata": {},
     "output_type": "execute_result"
    }
   ],
   "source": [
    "%%time\n",
    "#p36\n",
    "#approach 1:\n",
    "\n",
    "count = {}\n",
    "for each in \"In a village of La Mancha, the name of which I have no desire to call to mind, there lived not long since one of those gentlemen that keep a lance in the lance-rack, an old buckler, a lean hack, and a greyhound for coursing. An olla of rather more beef than mutton, a salad on most nights, scraps on Saturdays, lentils on Fridays, and a pigeon or so extra on Sundays, made away with three-quarters of his income.\".split():\n",
    "    count[each] = count.get(each,0) +1\n",
    "count\n",
    "#approach 2:\n",
    "from collections import Counter\n",
    "print(Counter())"
   ]
  },
  {
   "cell_type": "code",
   "execution_count": 58,
   "id": "cf8b4747-0e88-4d16-8a4b-dc0990a01782",
   "metadata": {},
   "outputs": [
    {
     "name": "stdout",
     "output_type": "stream",
     "text": [
      "Counter({'a': 6, 'of': 5, 'on': 4, 'the': 2, 'to': 2, 'and': 2, 'In': 1, 'village': 1, 'La': 1, 'Mancha,': 1, 'name': 1, 'which': 1, 'I': 1, 'have': 1, 'no': 1, 'desire': 1, 'call': 1, 'mind,': 1, 'there': 1, 'lived': 1, 'not': 1, 'long': 1, 'since': 1, 'one': 1, 'those': 1, 'gentlemen': 1, 'that': 1, 'keep': 1, 'lance': 1, 'in': 1, 'lance-rack,': 1, 'an': 1, 'old': 1, 'buckler,': 1, 'lean': 1, 'hack,': 1, 'greyhound': 1, 'for': 1, 'coursing.': 1, 'An': 1, 'olla': 1, 'rather': 1, 'more': 1, 'beef': 1, 'than': 1, 'mutton,': 1, 'salad': 1, 'most': 1, 'nights,': 1, 'scraps': 1, 'Saturdays,': 1, 'lentils': 1, 'Fridays,': 1, 'pigeon': 1, 'or': 1, 'so': 1, 'extra': 1, 'Sundays,': 1, 'made': 1, 'away': 1, 'with': 1, 'three-quarters': 1, 'his': 1, 'income.': 1})\n",
      "CPU times: total: 0 ns\n",
      "Wall time: 0 ns\n"
     ]
    }
   ],
   "source": [
    "%%time\n",
    "\n",
    "print(Counter(\"In a village of La Mancha, the name of which I have no desire to call to mind, there lived not long since one of those gentlemen that keep a lance in the lance-rack, an old buckler, a lean hack, and a greyhound for coursing. An olla of rather more beef than mutton, a salad on most nights, scraps on Saturdays, lentils on Fridays, and a pigeon or so extra on Sundays, made away with three-quarters of his income.\".split()))\n"
   ]
  },
  {
   "cell_type": "code",
   "execution_count": null,
   "id": "341e74c6-f1d9-4d41-9c48-eba118d24701",
   "metadata": {},
   "outputs": [],
   "source": []
  }
 ],
 "metadata": {
  "kernelspec": {
   "display_name": "Python 3 (ipykernel)",
   "language": "python",
   "name": "python3"
  },
  "language_info": {
   "codemirror_mode": {
    "name": "ipython",
    "version": 3
   },
   "file_extension": ".py",
   "mimetype": "text/x-python",
   "name": "python",
   "nbconvert_exporter": "python",
   "pygments_lexer": "ipython3",
   "version": "3.11.7"
  }
 },
 "nbformat": 4,
 "nbformat_minor": 5
}
